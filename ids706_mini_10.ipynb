{
  "nbformat": 4,
  "nbformat_minor": 0,
  "metadata": {
    "colab": {
      "provenance": [],
      "mount_file_id": "1QTL-9692wflyE_5fZWD1uHWNgIioqPA9",
      "authorship_tag": "ABX9TyN/AZ7YhMJHDnGqB4ukNPlc",
      "include_colab_link": true
    },
    "kernelspec": {
      "name": "python3",
      "display_name": "Python 3"
    },
    "language_info": {
      "name": "python"
    }
  },
  "cells": [
    {
      "cell_type": "markdown",
      "metadata": {
        "id": "view-in-github",
        "colab_type": "text"
      },
      "source": [
        "<a href=\"https://colab.research.google.com/github/xuy50/IDS706_MiniProj9_YangXu/blob/main/ids706_mini_10.ipynb\" target=\"_parent\"><img src=\"https://colab.research.google.com/assets/colab-badge.svg\" alt=\"Open In Colab\"/></a>"
      ]
    },
    {
      "cell_type": "code",
      "source": [
        "# Install necessary libraries and initialize a Spark session\n",
        "!pip install pyspark\n",
        "from pyspark.sql import SparkSession\n",
        "\n",
        "spark = SparkSession.builder.master(\"local[*]\").getOrCreate()"
      ],
      "metadata": {
        "colab": {
          "base_uri": "https://localhost:8080/"
        },
        "id": "90WrV94Hlmc-",
        "outputId": "5fc42560-3a52-4d3a-ee58-ecbb77617a61"
      },
      "execution_count": null,
      "outputs": [
        {
          "output_type": "stream",
          "name": "stdout",
          "text": [
            "Requirement already satisfied: pyspark in /usr/local/lib/python3.10/dist-packages (3.5.0)\n",
            "Requirement already satisfied: py4j==0.10.9.7 in /usr/local/lib/python3.10/dist-packages (from pyspark) (0.10.9.7)\n"
          ]
        }
      ]
    },
    {
      "cell_type": "code",
      "source": [
        "# Since Google Colab doesn't have a built-in `flights` dataset for PySpark, we'll use a workaround.\n",
        "# Let's load a sample dataset into a PySpark DataFrame. For this example, we'll use the 'flights' dataset from Seaborn, and read it into PySpark.\n",
        "import seaborn as sns\n",
        "flights = sns.load_dataset('flights')"
      ],
      "metadata": {
        "id": "7J8if_S4ltxl"
      },
      "execution_count": null,
      "outputs": []
    },
    {
      "cell_type": "code",
      "source": [
        "# Convert the Pandas DataFrame to a Spark DataFrame\n",
        "from pyspark.sql import DataFrame\n",
        "df = spark.createDataFrame(flights)"
      ],
      "metadata": {
        "id": "bQqoIqvMluxP"
      },
      "execution_count": null,
      "outputs": []
    },
    {
      "cell_type": "code",
      "source": [
        "# Show the initial data\n",
        "df.show()"
      ],
      "metadata": {
        "colab": {
          "base_uri": "https://localhost:8080/"
        },
        "id": "n_18ypxLlv_B",
        "outputId": "ae5d8da2-0bae-49f9-d197-313912ab5b79"
      },
      "execution_count": null,
      "outputs": [
        {
          "output_type": "stream",
          "name": "stdout",
          "text": [
            "+----+-----+----------+\n",
            "|year|month|passengers|\n",
            "+----+-----+----------+\n",
            "|1949|  Jan|       112|\n",
            "|1949|  Feb|       118|\n",
            "|1949|  Mar|       132|\n",
            "|1949|  Apr|       129|\n",
            "|1949|  May|       121|\n",
            "|1949|  Jun|       135|\n",
            "|1949|  Jul|       148|\n",
            "|1949|  Aug|       148|\n",
            "|1949|  Sep|       136|\n",
            "|1949|  Oct|       119|\n",
            "|1949|  Nov|       104|\n",
            "|1949|  Dec|       118|\n",
            "|1950|  Jan|       115|\n",
            "|1950|  Feb|       126|\n",
            "|1950|  Mar|       141|\n",
            "|1950|  Apr|       135|\n",
            "|1950|  May|       125|\n",
            "|1950|  Jun|       149|\n",
            "|1950|  Jul|       170|\n",
            "|1950|  Aug|       170|\n",
            "+----+-----+----------+\n",
            "only showing top 20 rows\n",
            "\n"
          ]
        }
      ]
    },
    {
      "cell_type": "code",
      "source": [
        "# Data Transformation: Filter flights that had more than 100 passengers (for demonstration purposes, as the original dataset doesn't have a 'delay' column)\n",
        "filtered_flights = df.filter(df[\"passengers\"] > 100)\n",
        "filtered_flights.show()"
      ],
      "metadata": {
        "colab": {
          "base_uri": "https://localhost:8080/"
        },
        "id": "4fSmMuH_lw6t",
        "outputId": "7c81813b-087e-4058-b3ca-e26d9ee85647"
      },
      "execution_count": null,
      "outputs": [
        {
          "output_type": "stream",
          "name": "stdout",
          "text": [
            "+----+-----+----------+\n",
            "|year|month|passengers|\n",
            "+----+-----+----------+\n",
            "|1949|  Jan|       112|\n",
            "|1949|  Feb|       118|\n",
            "|1949|  Mar|       132|\n",
            "|1949|  Apr|       129|\n",
            "|1949|  May|       121|\n",
            "|1949|  Jun|       135|\n",
            "|1949|  Jul|       148|\n",
            "|1949|  Aug|       148|\n",
            "|1949|  Sep|       136|\n",
            "|1949|  Oct|       119|\n",
            "|1949|  Nov|       104|\n",
            "|1949|  Dec|       118|\n",
            "|1950|  Jan|       115|\n",
            "|1950|  Feb|       126|\n",
            "|1950|  Mar|       141|\n",
            "|1950|  Apr|       135|\n",
            "|1950|  May|       125|\n",
            "|1950|  Jun|       149|\n",
            "|1950|  Jul|       170|\n",
            "|1950|  Aug|       170|\n",
            "+----+-----+----------+\n",
            "only showing top 20 rows\n",
            "\n"
          ]
        }
      ]
    },
    {
      "cell_type": "code",
      "source": [
        "# Register the DataFrame as a temporary view to use Spark SQL\n",
        "df.createOrReplaceTempView(\"flights_table\")"
      ],
      "metadata": {
        "id": "cCl1mM6olxs3"
      },
      "execution_count": null,
      "outputs": []
    },
    {
      "cell_type": "code",
      "source": [
        "# Spark SQL query to find the total passengers for each year\n",
        "total_passengers_by_year = spark.sql(\"SELECT year, SUM(passengers) as total_passengers FROM flights_table GROUP BY year ORDER BY year\")\n",
        "total_passengers_by_year.show()"
      ],
      "metadata": {
        "colab": {
          "base_uri": "https://localhost:8080/"
        },
        "id": "lmubfDkBlyu2",
        "outputId": "648e563a-0c87-452a-e4f2-3be683e74c8f"
      },
      "execution_count": null,
      "outputs": [
        {
          "output_type": "stream",
          "name": "stdout",
          "text": [
            "+----+----------------+\n",
            "|year|total_passengers|\n",
            "+----+----------------+\n",
            "|1949|            1520|\n",
            "|1950|            1676|\n",
            "|1951|            2042|\n",
            "|1952|            2364|\n",
            "|1953|            2700|\n",
            "|1954|            2867|\n",
            "|1955|            3408|\n",
            "|1956|            3939|\n",
            "|1957|            4421|\n",
            "|1958|            4572|\n",
            "|1959|            5140|\n",
            "|1960|            5714|\n",
            "+----+----------------+\n",
            "\n"
          ]
        }
      ]
    }
  ]
}